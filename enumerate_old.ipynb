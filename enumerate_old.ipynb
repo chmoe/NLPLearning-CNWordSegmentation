{
 "cells": [
  {
   "cell_type": "markdown",
   "metadata": {},
   "source": [
    "### Part 1.1  基于枚举方法来搭建中文分词工具（旧）\n",
    "\n",
    "此项目需要的数据：\n",
    "1. 综合类中文词库.xlsx： 包含了中文词，当做词典来用\n",
    "2. 以变量的方式提供了部分unigram概率 word_prob\n",
    "\n",
    "\n",
    "举个例子： 给定词典=[我们 学习 人工 智能 人工智能 未来 是]， 另外我们给定unigram概率：p(我们)=0.25, p(学习)=0.15, p(人工)=0.05, p(智能)=0.1, p(人工智能)=0.2, p(未来)=0.1, p(是)=0.15\n",
    "\n",
    "#### Step 1: 对于给定字符串：”我们学习人工智能，人工智能是未来“, 找出所有可能的分割方式\n",
    "- [我们，学习，人工智能，人工智能，是，未来]\n",
    "- [我们，学习，人工，智能，人工智能，是，未来]\n",
    "- [我们，学习，人工，智能，人工，智能，是，未来]\n",
    "- [我们，学习，人工智能，人工，智能，是，未来]\n",
    ".......\n",
    "\n",
    "\n",
    "#### Step 2: 我们也可以计算出每一个切分之后句子的概率\n",
    "- p(我们，学习，人工智能，人工智能，是，未来)= -log p(我们)-log p(学习)-log p(人工智能)-log p(人工智能)-log p(是)-log p(未来)\n",
    "- p(我们，学习，人工，智能，人工智能，是，未来)=-log p(我们)-log p(学习)-log p(人工)-log p(智能)-log p(人工智能)-log p(是)-log p(未来)\n",
    "- p(我们，学习，人工，智能，人工，智能，是，未来)=-log p(我们)-log p(学习)-log p(人工)-log p(智能)-log p(人工)-log p(智能)-log p(是)-log p(未来)\n",
    "- p(我们，学习，人工智能，人工，智能，是，未来)=-log p(我们)-log p(学习)-log p(人工智能)-log p(人工)-log p(智能)-log(是)-log p(未来)\n",
    ".....\n",
    "\n",
    "#### Step 3: 返回第二步中概率最大的结果"
   ]
  },
  {
   "cell_type": "code",
   "execution_count": null,
   "metadata": {},
   "outputs": [],
   "source": [
    "import pandas as pd\n",
    "import numpy as np"
   ]
  },
  {
   "cell_type": "code",
   "execution_count": null,
   "metadata": {},
   "outputs": [],
   "source": [
    "path = \"./data/综合类中文词库.xlsx\"\n",
    "data_frame = pd.read_excel(path, header = None)"
   ]
  },
  {
   "cell_type": "code",
   "execution_count": null,
   "metadata": {},
   "outputs": [],
   "source": [
    "dic_word_list = data_frame[data_frame.columns[0]].tolist()"
   ]
  },
  {
   "cell_type": "code",
   "execution_count": null,
   "metadata": {},
   "outputs": [],
   "source": [
    "dic_words =  dic_word_list   # 保存词典库中读取的单词\n",
    "\n",
    "# 以下是每一个单词出现的概率。为了问题的简化，我们只列出了一小部分单词的概率。 在这里没有出现的的单词但是出现在词典里的，统一把概率设置成为0.00001\n",
    "# 比如 p(\"学院\")=p(\"概率\")=...0.00001\n",
    "\n",
    "word_prob = {\"北京\":0.03,\"的\":0.08,\"天\":0.005,\"气\":0.005,\"天气\":0.06,\"真\":0.04,\"好\":0.05,\"真好\":0.04,\"啊\":0.01,\"真好啊\":0.02, \n",
    "             \"今\":0.01,\"今天\":0.07,\"课程\":0.06,\"内容\":0.06,\"有\":0.05,\"很\":0.03,\"很有\":0.04,\"意思\":0.06,\"有意思\":0.005,\"课\":0.01,\n",
    "             \"程\":0.005,\"经常\":0.08,\"意见\":0.08,\"意\":0.01,\"见\":0.005,\"有意见\":0.02,\"分歧\":0.04,\"分\":0.02, \"歧\":0.005}\n",
    "\n",
    "print (sum(word_prob.values()))"
   ]
  },
  {
   "cell_type": "code",
   "execution_count": null,
   "metadata": {},
   "outputs": [],
   "source": [
    "for key, value in word_prob.items():\n",
    "    if key not in dic_words:\n",
    "        dic_words.append(key)"
   ]
  },
  {
   "cell_type": "code",
   "execution_count": null,
   "metadata": {},
   "outputs": [],
   "source": [
    "for item in dic_words:\n",
    "    word_prob.setdefault(item, 0.00001)"
   ]
  },
  {
   "cell_type": "code",
   "execution_count": null,
   "metadata": {},
   "outputs": [],
   "source": [
    "print (sum(word_prob.values()))"
   ]
  },
  {
   "cell_type": "code",
   "execution_count": null,
   "metadata": {},
   "outputs": [],
   "source": [
    "def split_word_with_dic_front_max(dic=[], input_str=\"\"):\n",
    "    '''前项最大分词'''\n",
    "    input_str_tmp = input_str\n",
    "    segments = []\n",
    "    while(input_str_tmp!=\"\"):\n",
    "        tmp_length = 0\n",
    "        tmp_dic_content = \"\"\n",
    "        for word in dic:\n",
    "            # print(\"单词长度：\"+str(len(word))+\" === 单词：\"+word +\"==\"\"=== 划分：\"+input_str_tmp[:len(word)])\n",
    "            if(word == input_str_tmp[:len(word)]):\n",
    "                if(tmp_length < len(word)):\n",
    "                    tmp_dic_content = word\n",
    "                    tmp_length = len(word)\n",
    "        segments.append(tmp_dic_content)\n",
    "        # print(tmp_dic_content)\n",
    "        input_str_tmp = input_str_tmp[tmp_length:]\n",
    "    return segments"
   ]
  },
  {
   "cell_type": "code",
   "execution_count": null,
   "metadata": {},
   "outputs": [],
   "source": [
    "def split_word_with_dic_front_min(dic=[], input_str=\"\"):\n",
    "    '''前项最小分词'''\n",
    "    input_str_tmp = input_str\n",
    "    segments = []\n",
    "    while(input_str_tmp!=\"\"):\n",
    "        tmp_length = len(input_str)\n",
    "        tmp_dic_content = \"\"\n",
    "        for word in dic:\n",
    "            # print(\"单词长度：\"+str(len(word))+\" === 单词：\"+word +\"==\"\"=== 划分：\"+input_str_tmp[:len(word)])\n",
    "            if(word == input_str_tmp[:len(word)]):\n",
    "                if(tmp_length > len(word)):\n",
    "                    tmp_dic_content = word\n",
    "                    tmp_length = len(word)\n",
    "        segments.append(tmp_dic_content)\n",
    "        # print(tmp_dic_content)\n",
    "        input_str_tmp = input_str_tmp[tmp_length:]\n",
    "    return segments"
   ]
  },
  {
   "cell_type": "code",
   "execution_count": null,
   "metadata": {},
   "outputs": [],
   "source": [
    "def split_word_with_dic_back_max(dic=[], input_str=\"\"):\n",
    "    '''后项最大分词'''\n",
    "    input_str_tmp = input_str\n",
    "    segments = []\n",
    "    while(input_str_tmp!=\"\"):\n",
    "        tmp_length = 0\n",
    "        tmp_dic_content = \"\"\n",
    "        for word in dic:\n",
    "            if(word == input_str_tmp[-len(word):]):\n",
    "                if(tmp_length < len(word)):\n",
    "                    tmp_dic_content = word\n",
    "                    tmp_length = len(word)\n",
    "        segments.append(tmp_dic_content)\n",
    "        input_str_tmp = input_str_tmp[:-tmp_length]\n",
    "    return segments[::-1]"
   ]
  },
  {
   "cell_type": "code",
   "execution_count": null,
   "metadata": {},
   "outputs": [],
   "source": [
    "def split_word_with_dic_back_min(dic=[], input_str=\"\"):\n",
    "    '''后项最小分词'''\n",
    "    input_str_tmp = input_str\n",
    "    segments = []\n",
    "    while(input_str_tmp!=\"\"):\n",
    "        tmp_length = len(input_str)\n",
    "        tmp_dic_content = \"\"\n",
    "        for word in dic:\n",
    "            if(word == input_str_tmp[-len(word):]):\n",
    "                if(tmp_length > len(word)):\n",
    "                    tmp_dic_content = word\n",
    "                    tmp_length = len(word)\n",
    "        segments.append(tmp_dic_content)\n",
    "        input_str_tmp = input_str_tmp[:-tmp_length]\n",
    "    return segments[::-1]\n"
   ]
  },
  {
   "cell_type": "code",
   "execution_count": null,
   "metadata": {},
   "outputs": [],
   "source": [
    "def split_word(dic=[], input=\"\"):\n",
    "    tmp_result = []\n",
    "    tmp_result.append(split_word_with_dic_front_max(dic, input))\n",
    "    tmp_result.append(split_word_with_dic_back_max(dic, input))    \n",
    "    tmp_result.append(split_word_with_dic_front_min(dic, input))\n",
    "    tmp_result.append(split_word_with_dic_back_min(dic, input))     \n",
    "    return tmp_result"
   ]
  },
  {
   "cell_type": "code",
   "execution_count": null,
   "metadata": {},
   "outputs": [],
   "source": [
    "def get_split_probability_use_segment(split_word_segment=[]):\n",
    "    sum_result = 0\n",
    "    for seg in split_word_segment:\n",
    "        sum_result -= np.log(word_prob.get(seg))\n",
    "    return sum_result\n",
    "def get_split_probability(split_word_segments=[[], ]):\n",
    "    '''\n",
    "    根据传入的分词结果计算出概率最高的分词结果并返回\n",
    "    '''\n",
    "    index = 0\n",
    "    max_index = 0\n",
    "    sum = get_split_probability_use_segment(split_word_segments[0])\n",
    "    for segment in split_word_segments:\n",
    "        tmp = get_split_probability_use_segment(segment)\n",
    "        if(sum>tmp): \n",
    "            sum = tmp\n",
    "            max_index = index\n",
    "        index += 1\n",
    "    return split_word_segments[max_index], sum"
   ]
  },
  {
   "cell_type": "code",
   "execution_count": null,
   "metadata": {},
   "outputs": [],
   "source": [
    "#  分数（10）\n",
    "## TODO 请编写word_segment_naive函数来实现对输入字符串的分词\n",
    "def word_segment_naive(input_str):\n",
    "    \"\"\"\n",
    "    1. 对于输入字符串做分词，并返回所有可行的分词之后的结果。\n",
    "    2. 针对于每一个返回结果，计算句子的概率\n",
    "    3. 返回概率最高的最作为最后结果\n",
    "    \n",
    "    input_str: 输入字符串   输入格式：“今天天气好”\n",
    "    best_segment: 最好的分词结果  输出格式：[\"今天\"，\"天气\"，\"好\"]\n",
    "    \"\"\"\n",
    "\n",
    "    # TODO： 第一步： 计算所有可能的分词结果，要保证每个分完的词存在于词典里，这个结果有可能会非常多。 \n",
    "    segments = split_word(dic_words, input_str)  # 存储所有分词的结果。如果次字符串不可能被完全切分，则返回空列表(list)\n",
    "                   # 格式为：segments = [[\"今天\"，“天气”，“好”],[\"今天\"，“天“，”气”，“好”],[\"今“，”天\"，“天气”，“好”],...]\n",
    "    \n",
    "    # TODO: 第二步：循环所有的分词结果，并计算出概率最高的分词结果，并返回\n",
    "    best_segment, best_score = get_split_probability(segments)\n",
    "    \n",
    "    return best_segment      "
   ]
  },
  {
   "cell_type": "code",
   "execution_count": null,
   "metadata": {},
   "outputs": [],
   "source": [
    "# 测试\n",
    "print(word_segment_naive(\"北京的天气真好啊\"))\n",
    "print(word_segment_naive(\"今天的课程内容很有意思\"))\n",
    "print(word_segment_naive(\"经常有意见分歧\"))"
   ]
  }
 ],
 "metadata": {
  "kernelspec": {
   "display_name": "Python 3",
   "language": "python",
   "name": "python3"
  },
  "language_info": {
   "codemirror_mode": {
    "name": "ipython",
    "version": 3
   },
   "file_extension": ".py",
   "mimetype": "text/x-python",
   "name": "python",
   "nbconvert_exporter": "python",
   "pygments_lexer": "ipython3",
   "version": "3.8.6"
  }
 },
 "nbformat": 4,
 "nbformat_minor": 2
}
